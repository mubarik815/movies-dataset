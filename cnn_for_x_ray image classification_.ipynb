{
  "nbformat": 4,
  "nbformat_minor": 0,
  "metadata": {
    "colab": {
      "provenance": [],
      "mount_file_id": "1hScngpp9fd1fMf2Pa6ZgEjGgdiUwVb53",
      "authorship_tag": "ABX9TyNBUbkiBIipPMqAgaeavhP7",
      "include_colab_link": true
    },
    "kernelspec": {
      "name": "python3",
      "display_name": "Python 3"
    },
    "language_info": {
      "name": "python"
    }
  },
  "cells": [
    {
      "cell_type": "markdown",
      "metadata": {
        "id": "view-in-github",
        "colab_type": "text"
      },
      "source": [
        "<a href=\"https://colab.research.google.com/github/mubarik815/movies-dataset/blob/main/cnn_for_x_ray%20image%20classification_.ipynb\" target=\"_parent\"><img src=\"https://colab.research.google.com/assets/colab-badge.svg\" alt=\"Open In Colab\"/></a>"
      ]
    },
    {
      "cell_type": "code",
      "execution_count": 14,
      "metadata": {
        "id": "X9T56g6Yg6tD"
      },
      "outputs": [],
      "source": [
        "import pandas as pd"
      ]
    },
    {
      "cell_type": "code",
      "source": [
        "from google.colab import drive\n",
        "drive.mount('/content/drive')\n"
      ],
      "metadata": {
        "colab": {
          "base_uri": "https://localhost:8080/"
        },
        "id": "ARWj6iUZpdkg",
        "outputId": "0b4c0404-8411-4618-e3d4-c72b024b90de"
      },
      "execution_count": 15,
      "outputs": [
        {
          "output_type": "stream",
          "name": "stdout",
          "text": [
            "Drive already mounted at /content/drive; to attempt to forcibly remount, call drive.mount(\"/content/drive\", force_remount=True).\n"
          ]
        }
      ]
    },
    {
      "cell_type": "code",
      "source": [
        "train_folder = '/content/drive/My Drive/train/'\n"
      ],
      "metadata": {
        "id": "PeBkl1O7poXN"
      },
      "execution_count": 17,
      "outputs": []
    },
    {
      "cell_type": "code",
      "source": [
        "test_folder = '/content/drive/MyDrive/test'"
      ],
      "metadata": {
        "id": "zAIXn_4U1Q6B"
      },
      "execution_count": 18,
      "outputs": []
    },
    {
      "cell_type": "code",
      "source": [
        "val_folder= '/content/drive/MyDrive/val'"
      ],
      "metadata": {
        "id": "wTNcFgDj1V93"
      },
      "execution_count": 19,
      "outputs": []
    },
    {
      "cell_type": "code",
      "source": [
        "import numpy as np\n",
        "import pandas as pd\n",
        "import matplotlib.pyplot as plt\n",
        "import os\n",
        "import random\n",
        "import glob # to find files\n",
        "\n",
        "# Seaborn library for bar chart\n",
        "import seaborn as sns\n",
        "\n",
        "# Libraries for TensorFlow\n",
        "from tensorflow.keras.utils import to_categorical\n",
        "from tensorflow.keras.preprocessing import image\n",
        "from tensorflow.keras import models, layers\n",
        "\n",
        "# Library for Transfer Learning\n",
        "from tensorflow.keras.applications import VGG16\n",
        "from keras.applications.vgg16 import preprocess_input\n",
        "\n",
        "print(\"Importing libraries completed.\")"
      ],
      "metadata": {
        "colab": {
          "base_uri": "https://localhost:8080/"
        },
        "id": "3mQo4KaAiFXs",
        "outputId": "c355f015-127e-4b24-b472-f86c65ea37f3"
      },
      "execution_count": 20,
      "outputs": [
        {
          "output_type": "stream",
          "name": "stdout",
          "text": [
            "Importing libraries completed.\n"
          ]
        }
      ]
    },
    {
      "cell_type": "code",
      "source": [
        "# listing the folders containing images\n",
        "\n",
        "# Train Dataset\n",
        "train_class_names=os.listdir(train_folder)\n",
        "print(\"Train class names: %s\" % (train_class_names))\n",
        "# print(\"\\n\")\n",
        "\n",
        "# Test Dataset\n",
        "test_class_names=os.listdir(test_folder)\n",
        "print(\"Test class names: %s\" % (test_class_names))\n",
        "# print(\"\\n\")\n",
        "\n",
        "# Validation Dataset\n",
        "val_class_names=os.listdir(val_folder)\n",
        "print(\"Validation class names: %s\" % (val_class_names))\n",
        "\n",
        "print(\"\\nDataset class name listing completed.\")"
      ],
      "metadata": {
        "colab": {
          "base_uri": "https://localhost:8080/"
        },
        "id": "wuQD5RLm9sci",
        "outputId": "02a91660-3757-4952-c0fb-9d9bb7043067"
      },
      "execution_count": 21,
      "outputs": [
        {
          "output_type": "stream",
          "name": "stdout",
          "text": [
            "Train class names: ['PNEUMONIA', 'NORMAL']\n",
            "Test class names: ['NORMAL', 'PNEUMONIA']\n",
            "Validation class names: ['NORMAL', 'PNEUMONIA']\n",
            "\n",
            "Dataset class name listing completed.\n"
          ]
        }
      ]
    },
    {
      "cell_type": "code",
      "source": [
        "# declaration of functions\n",
        "\n",
        "# Function get name of xray type\n",
        "def Get_Xray_Type(argument):\n",
        "    switcher = {\n",
        "        \"NORMAL\": \"Normal\",\n",
        "        \"PNEUMONIA\": \"Pneumonia\",\n",
        "    }\n",
        "    return switcher.get(argument, \"Invalid X-ray\")\n",
        "# Get_Xray_Type(\"NORMAL\") # this is how the function can be called\n",
        "\n",
        "print(\"Declaration of functions completed.\")"
      ],
      "metadata": {
        "id": "U-8Bl5if90ux"
      },
      "execution_count": null,
      "outputs": []
    },
    {
      "cell_type": "code",
      "source": [
        "# Analysis of Train, Test and Validation directory\n",
        "\n",
        "# find all files, our files has extension jpeg\n",
        "train_normal_cases = glob.glob(train_normal_dir + '*jpeg')\n",
        "train_pneu_cases = glob.glob(train_pneu_dir + '*jpeg')\n",
        "\n",
        "test_normal_cases = glob.glob(test_normal_dir + '*jpeg')\n",
        "test_pneu_cases = glob.glob(test_pneu_dir + '*jpeg')\n",
        "\n",
        "val_normal_cases = glob.glob(val_normal_dir + '*jpeg')\n",
        "val_pneu_cases = glob.glob(val_pneu_dir + '*jpeg')\n",
        "\n",
        "# create lists for train, test & validation cases, create labels as well\n",
        "train_list = []\n",
        "test_list = []\n",
        "val_list = []\n",
        "\n",
        "for x in train_normal_cases:\n",
        "    train_list.append([x, \"Normal\"])\n",
        "\n",
        "for x in train_pneu_cases:\n",
        "    train_list.append([x, \"Pneumonia\"])\n",
        "\n",
        "for x in test_normal_cases:\n",
        "    test_list.append([x, \"Normal\"])\n",
        "\n",
        "for x in test_pneu_cases:\n",
        "    test_list.append([x, \"Pneumonia\"])\n",
        "\n",
        "for x in val_normal_cases:\n",
        "    val_list.append([x, \"Normal\"])\n",
        "\n",
        "for x in val_pneu_cases:\n",
        "    val_list.append([x, \"Pneumonia\"])\n",
        "\n",
        "# create dataframes\n",
        "train_df = pd.DataFrame(train_list, columns=['image', 'Diagnos'])\n",
        "print(train_df.shape)\n",
        "test_df = pd.DataFrame(test_list, columns=['image', 'Diagnos'])\n",
        "print(test_df.shape)\n",
        "val_df = pd.DataFrame(val_list, columns=['image', 'Diagnos'])\n",
        "print(val_df.shape)"
      ],
      "metadata": {
        "id": "wDEB5zFg9_aM"
      },
      "execution_count": null,
      "outputs": []
    },
    {
      "cell_type": "markdown",
      "source": [
        "          # importing libraries"
      ],
      "metadata": {
        "id": "PLBoNcj72Ugy"
      }
    },
    {
      "cell_type": "code",
      "source": [
        "\n"
      ],
      "metadata": {
        "id": "xOsZj8AV1WGA"
      },
      "execution_count": null,
      "outputs": []
    },
    {
      "cell_type": "code",
      "source": [
        "train_normal_dir=train_folder+\"NORMAL/\"\n",
        "train_pneu_dir=train_folder+\"PNEUMONIA/\"\n",
        "# test directory\n",
        "test_normal_dir=test_folder+\"NORMAL/\"\n",
        "test_pneu_dir=test_folder+\"PNEUMONIA/\"\n",
        "# validation directory\n",
        "val_normal_dir=val_folder+\"NORMAL/\"\n",
        "val_pneu_dir=val_folder+\"PNEUMONIA/\"\n"
      ],
      "metadata": {
        "id": "LBNL6O8e2qTa"
      },
      "execution_count": null,
      "outputs": []
    },
    {
      "cell_type": "code",
      "source": [],
      "metadata": {
        "id": "TXFu89q98tDF"
      },
      "execution_count": null,
      "outputs": []
    },
    {
      "cell_type": "code",
      "source": [
        "# variables for image size\n",
        "img_width=196\n",
        "img_height=196\n",
        "\n",
        "# variable for model\n",
        "batch_size=64\n",
        "epochs=10\n",
        "\n",
        "print(\"Variable declaration completed.\")"
      ],
      "metadata": {
        "id": "2rJhTtlQ35Tl"
      },
      "execution_count": null,
      "outputs": []
    },
    {
      "cell_type": "code",
      "source": [
        "\n",
        "# listing the folders containing images\n",
        "\n",
        "# Train Dataset\n",
        "train_class_names=os.listdir(train_folder)\n",
        "print(\"Train class names: %s\" % (train_class_names))\n",
        "# print(\"\\n\")\n",
        "\n",
        "# Test Dataset\n",
        "test_class_names=os.listdir(test_folder)\n",
        "print(\"Test class names: %s\" % (test_class_names))\n",
        "# print(\"\\n\")\n",
        "\n",
        "# Validation Dataset\n",
        "val_class_names=os.listdir(val_folder)\n",
        "print(\"Validation class names: %s\" % (val_class_names))\n",
        "\n",
        "print(\"\\nDataset class name listing completed.\")\n",
        "\n"
      ],
      "metadata": {
        "id": "wUIMcbhd35XQ"
      },
      "execution_count": null,
      "outputs": []
    },
    {
      "cell_type": "code",
      "source": [
        "# declaration of functions\n",
        "\n",
        "# Function get name of xray type\n",
        "def Get_Xray_Type(argument):\n",
        "    switcher = {\n",
        "        \"NORMAL\": \"Normal\",\n",
        "        \"PNEUMONIA\": \"Pneumonia\",\n",
        "    }\n",
        "    return switcher.get(argument, \"Invalid X-ray\")\n",
        "# Get_Xray_Type(\"NORMAL\") # this is how the function can be called\n",
        "\n",
        "print(\"Declaration of functions completed.\")"
      ],
      "metadata": {
        "id": "ZKRLIHGR35dB"
      },
      "execution_count": null,
      "outputs": []
    },
    {
      "cell_type": "markdown",
      "source": [
        "\n",
        "###               **3. Verification of Data**"
      ],
      "metadata": {
        "id": "2UpIknSl6hgP"
      }
    },
    {
      "cell_type": "code",
      "source": [
        "import glob\n",
        "\n",
        "# Training data\n",
        "train_normal_cases = glob.glob('/content/drive/My Drive/train/NORMAL/*.jpg') + \\\n",
        "                     glob.glob('/content/drive/My Drive/train/NORMAL/*.jpeg')\n",
        "train_pneu_cases = glob.glob('/content/drive/My Drive/train/PNEUMONIA/*.jpg') + \\\n",
        "                   glob.glob('/content/drive/My Drive/train/PNEUMONIA/*.jpeg')\n",
        "\n",
        "# Testing data\n",
        "test_normal_cases = glob.glob('/content/drive/My Drive/test/NORMAL/*.jpg') + \\\n",
        "                    glob.glob('/content/drive/My Drive/test/NORMAL/*.jpeg')\n",
        "test_pneu_cases = glob.glob('/content/drive/My Drive/test/PNEUMONIA/*.jpg') + \\\n",
        "                  glob.glob('/content/drive/My Drive/test/PNEUMONIA/*.jpeg')\n",
        "\n",
        "# Validation data\n",
        "val_normal_cases = glob.glob('/content/drive/My Drive/val/NORMAL/*.jpg') + \\\n",
        "                   glob.glob('/content/drive/My Drive/val/NORMAL/*.jpeg')\n",
        "val_pneu_cases = glob.glob('/content/drive/My Drive/val/PNEUMONIA/*.jpg') + \\\n",
        "                 glob.glob('/content/drive/My Drive/val/PNEUMONIA/*.jpeg')\n",
        "\n",
        "# ========== Step 2: Create labeled lists ==========\n",
        "\n",
        "train_list = [[x, \"Normal\"] for x in train_normal_cases] + \\\n",
        "             [[x, \"Pneumonia\"] for x in train_pneu_cases]\n",
        "\n",
        "test_list = [[x, \"Normal\"] for x in test_normal_cases] + \\\n",
        "            [[x, \"Pneumonia\"] for x in test_pneu_cases]\n",
        "\n",
        "val_list = [[x, \"Normal\"] for x in val_normal_cases] + \\\n",
        "           [[x, \"Pneumonia\"] for x in val_pneu_cases]\n",
        "\n",
        "# ========== Step 3: Convert to DataFrames ==========\n",
        "\n",
        "train_df = pd.DataFrame(train_list, columns=['image', 'Diagnos'])\n",
        "test_df = pd.DataFrame(test_list, columns=['image', 'Diagnos'])\n",
        "val_df = pd.DataFrame(val_list, columns=['image', 'Diagnos'])\n",
        "\n",
        "# ========== Step 4: Print sizes to confirm ==========\n",
        "\n",
        "print(\"Train:\", train_df.shape)\n",
        "print(\"Test :\", test_df.shape)\n",
        "print(\"Val  :\", val_df.shape)\n"
      ],
      "metadata": {
        "id": "Z5UitxGz7jFN"
      },
      "execution_count": null,
      "outputs": []
    },
    {
      "cell_type": "markdown",
      "source": [
        "    ### Visualization"
      ],
      "metadata": {
        "id": "C7J8InYCB8fE"
      }
    },
    {
      "cell_type": "code",
      "source": [
        "plt.figure(figsize=(20, 8))  # Taller figure for vertical layout\n",
        "# Plot 1 - Train\n",
        "plt.subplot(1, 3, 1)\n",
        "sns.countplot(x=train_df['Diagnos'])\n",
        "plt.title('Train Data')\n",
        "\n",
        "# Plot 2 - Test\n",
        "plt.subplot(1, 3, 2)\n",
        "sns.countplot(x=test_df['Diagnos'])\n",
        "plt.title('Test Data')\n",
        "\n",
        "# Plot 3 - Validation\n",
        "plt.subplot(1, 3, 3)\n",
        "sns.countplot(x=val_df['Diagnos'])\n",
        "plt.title('Validation Data')\n",
        "\n",
        "plt.tight_layout()\n",
        "plt.show()\n"
      ],
      "metadata": {
        "id": "5_5jp1zQ35he"
      },
      "execution_count": null,
      "outputs": []
    },
    {
      "cell_type": "markdown",
      "source": [
        "\n",
        "# **Plotting raw images**"
      ],
      "metadata": {
        "id": "I_SrErXjDdFI"
      }
    },
    {
      "cell_type": "code",
      "source": [
        "plt.figure(figsize=(20,8))\n",
        "for i,img_path in enumerate(train_df[train_df['Diagnos'] == \"Pneumonia\"][0:4]['image']):\n",
        "    plt.subplot(2,4,i+1)\n",
        "    plt.axis('off')\n",
        "    img = plt.imread(img_path)\n",
        "    plt.imshow(img, cmap='gray')\n",
        "    plt.title('Pneumonia')\n",
        "\n",
        "for i,img_path in enumerate(train_df[train_df['Diagnos'] == \"Normal\"][0:4]['image']):\n",
        "    plt.subplot(2,4,4+i+1)\n",
        "    plt.axis('off')\n",
        "    img = plt.imread(img_path)\n",
        "    plt.imshow(img, cmap='gray')\n",
        "    plt.title('Normal')"
      ],
      "metadata": {
        "id": "VHyZjKe7rYjj"
      },
      "execution_count": null,
      "outputs": []
    },
    {
      "cell_type": "markdown",
      "source": [
        "# **Preparing Data**"
      ],
      "metadata": {
        "id": "So2fRPgSEykX"
      }
    },
    {
      "cell_type": "code",
      "source": [
        "# from tensorflow.keras.preprocessing import image\n",
        "from tensorflow.keras.applications.vgg16 import preprocess_input\n",
        "import os\n",
        "\n",
        "x = []\n",
        "y = []\n",
        "\n",
        "for folder in os.listdir(train_folder):\n",
        "    folder_path = os.path.join(train_folder, folder)\n",
        "    if not os.path.isdir(folder_path):\n",
        "        continue  # skip if not a folder\n",
        "\n",
        "    image_list = os.listdir(folder_path)\n",
        "    for img_name in image_list:\n",
        "        img_path = os.path.join(folder_path, img_name)\n",
        "        try:\n",
        "            img = image.load_img(img_path, target_size=(img_width, img_height))\n",
        "            img = image.img_to_array(img)\n",
        "            img = preprocess_input(img)\n",
        "            x.append(img)\n",
        "            y.append(train_class_names.index(folder))\n",
        "        except Exception as e:\n",
        "            print(f\"Skipping file {img_path} due to error: {e}\")\n",
        "\n",
        "print(\"Preparing Training Dataset Completed.\")\n"
      ],
      "metadata": {
        "id": "SVzG6jb516oE"
      },
      "execution_count": null,
      "outputs": []
    },
    {
      "cell_type": "markdown",
      "source": [],
      "metadata": {
        "id": "z68bUXwvh2Tn"
      }
    },
    {
      "cell_type": "markdown",
      "source": [
        "https://www.kaggle.com/code/viratkothari/chest-x-ray-image-classification-using-vgg16"
      ],
      "metadata": {
        "id": "5DS5nlFkH0q2"
      }
    }
  ]
}